{
 "cells": [
  {
   "cell_type": "raw",
   "id": "75fe6c75-6d68-49ad-bafc-8b7c74531abd",
   "metadata": {},
   "source": [
    "---\n",
    "title: \"[YOUR TITLE]\"\n",
    "format: html\n",
    "jupyter: python3\n",
    "---"
   ]
  },
  {
   "cell_type": "markdown",
   "id": "d2e63deb-8b58-4281-8ea4-61e6f516eda7",
   "metadata": {},
   "source": [
    "## Quarto\n",
    "\n",
    "Quarto enables you to weave together content and executable code into a finished document. To learn more about Quarto see <https://quarto.org>.\n",
    "\n",
    "## Running Code\n",
    "\n",
    "When you click the **Render** button a document will be generated that includes both content and the output of embedded code. You can embed code like this:"
   ]
  },
  {
   "cell_type": "code",
   "execution_count": null,
   "id": "32a569f7-c0bf-4a11-aa68-488bc6319627",
   "metadata": {},
   "outputs": [],
   "source": [
    "1 + 1"
   ]
  },
  {
   "cell_type": "markdown",
   "id": "c6b97e8c-ab2e-4811-b8c3-d0ffe1b2f295",
   "metadata": {},
   "source": [
    "You can add options to executable code like this"
   ]
  },
  {
   "cell_type": "code",
   "execution_count": null,
   "id": "0890684b-8d44-4b8d-a01d-751e936b0845",
   "metadata": {},
   "outputs": [],
   "source": [
    "#| echo: false\n",
    "2 * 2"
   ]
  },
  {
   "cell_type": "markdown",
   "id": "95626271-fdc3-4a4e-be27-0eb7cf95c1cb",
   "metadata": {},
   "source": [
    "The `echo: false` option disables the printing of code (only output is displayed)."
   ]
  }
 ],
 "metadata": {
  "kernelspec": {
   "display_name": "Python 3 (ipykernel)",
   "language": "python",
   "name": "python3"
  },
  "language_info": {
   "codemirror_mode": {
    "name": "ipython",
    "version": 3
   },
   "file_extension": ".py",
   "mimetype": "text/x-python",
   "name": "python",
   "nbconvert_exporter": "python",
   "pygments_lexer": "ipython3",
   "version": "3.11.5"
  }
 },
 "nbformat": 4,
 "nbformat_minor": 5
}
